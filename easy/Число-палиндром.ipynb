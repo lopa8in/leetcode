{
 "cells": [
  {
   "cell_type": "markdown",
   "id": "52b5050c",
   "metadata": {},
   "source": [
    "9. Число палиндром"
   ]
  },
  {
   "cell_type": "code",
   "execution_count": 17,
   "id": "c2af4b2a",
   "metadata": {},
   "outputs": [
    {
     "name": "stdout",
     "output_type": "stream",
     "text": [
      "False\n"
     ]
    }
   ],
   "source": [
    "def number_palindrome(counter):\n",
    "\n",
    "    if str(counter)[::-1] == str(counter):\n",
    "        return True\n",
    "    return False\n",
    "\n",
    "print(number_palindrome(-121))"
   ]
  }
 ],
 "metadata": {
  "kernelspec": {
   "display_name": "my_env",
   "language": "python",
   "name": "python3"
  },
  "language_info": {
   "codemirror_mode": {
    "name": "ipython",
    "version": 3
   },
   "file_extension": ".py",
   "mimetype": "text/x-python",
   "name": "python",
   "nbconvert_exporter": "python",
   "pygments_lexer": "ipython3",
   "version": "3.10.18"
  }
 },
 "nbformat": 4,
 "nbformat_minor": 5
}
