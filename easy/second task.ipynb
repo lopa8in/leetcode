{
 "cells": [
  {
   "cell_type": "markdown",
   "id": "61755749",
   "metadata": {},
   "source": [
    "1. Cумма двух"
   ]
  },
  {
   "cell_type": "code",
   "execution_count": 2,
   "id": "435fe449",
   "metadata": {},
   "outputs": [
    {
     "name": "stdout",
     "output_type": "stream",
     "text": [
      "[1, 2]\n"
     ]
    }
   ],
   "source": [
    "def sum_of_two(nums, count):\n",
    "    result = list()\n",
    "\n",
    "    for i in range(len(nums)):\n",
    "        for j in range(i+1, len(nums)):\n",
    "\n",
    "            if nums[i] + nums[j] == count:\n",
    "                result.append(i)\n",
    "                result.append(j)\n",
    "    return result\n",
    "\n",
    "print(sum_of_two([3,2,4], 6))"
   ]
  }
 ],
 "metadata": {
  "kernelspec": {
   "display_name": "my_env",
   "language": "python",
   "name": "python3"
  },
  "language_info": {
   "codemirror_mode": {
    "name": "ipython",
    "version": 3
   },
   "file_extension": ".py",
   "mimetype": "text/x-python",
   "name": "python",
   "nbconvert_exporter": "python",
   "pygments_lexer": "ipython3",
   "version": "3.10.18"
  }
 },
 "nbformat": 4,
 "nbformat_minor": 5
}
