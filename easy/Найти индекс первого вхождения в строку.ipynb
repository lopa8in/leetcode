{
 "cells": [
  {
   "cell_type": "markdown",
   "id": "fb6cd4a1",
   "metadata": {},
   "source": [
    "28. Найти индекс первого вхождения"
   ]
  },
  {
   "cell_type": "code",
   "execution_count": 15,
   "id": "5e4ddd6d",
   "metadata": {},
   "outputs": [],
   "source": [
    "def first_index(haystack, needl):\n",
    "\n",
    "    for i in range(len(haystack)):\n",
    "\n",
    "        if haystack[i:len(needl)+i] == needl:\n",
    "            return i\n",
    "        \n",
    "    return -1"
   ]
  }
 ],
 "metadata": {
  "kernelspec": {
   "display_name": "my_env",
   "language": "python",
   "name": "python3"
  },
  "language_info": {
   "codemirror_mode": {
    "name": "ipython",
    "version": 3
   },
   "file_extension": ".py",
   "mimetype": "text/x-python",
   "name": "python",
   "nbconvert_exporter": "python",
   "pygments_lexer": "ipython3",
   "version": "3.10.18"
  }
 },
 "nbformat": 4,
 "nbformat_minor": 5
}
