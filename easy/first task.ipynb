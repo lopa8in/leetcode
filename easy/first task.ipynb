{
 "cells": [
  {
   "cell_type": "markdown",
   "id": "aa340ce2",
   "metadata": {},
   "source": [
    "326. Сила трех."
   ]
  },
  {
   "cell_type": "code",
   "execution_count": 32,
   "id": "5d139bbe",
   "metadata": {},
   "outputs": [
    {
     "data": {
      "text/plain": [
       "True"
      ]
     },
     "execution_count": 32,
     "metadata": {},
     "output_type": "execute_result"
    }
   ],
   "source": [
    "def power_of_three(count):\n",
    "\n",
    "    if count <= 0:\n",
    "        return False\n",
    "    if count == 1:\n",
    "        return True\n",
    "    if count%3 != 0:\n",
    "        return False\n",
    "    return power_of_three(count / 3) \n",
    "\n",
    "power_of_three(59049)"
   ]
  }
 ],
 "metadata": {
  "kernelspec": {
   "display_name": "my_env",
   "language": "python",
   "name": "python3"
  },
  "language_info": {
   "codemirror_mode": {
    "name": "ipython",
    "version": 3
   },
   "file_extension": ".py",
   "mimetype": "text/x-python",
   "name": "python",
   "nbconvert_exporter": "python",
   "pygments_lexer": "ipython3",
   "version": "3.10.18"
  }
 },
 "nbformat": 4,
 "nbformat_minor": 5
}
