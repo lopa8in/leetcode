{
 "cells": [
  {
   "cell_type": "markdown",
   "id": "06c8b25d",
   "metadata": {},
   "source": [
    "35. Поиск Вставить Позицию"
   ]
  },
  {
   "cell_type": "code",
   "execution_count": null,
   "id": "27da24c2",
   "metadata": {},
   "outputs": [],
   "source": [
    "def count_numbers(nums, value):\n",
    "    \n",
    "    for i, count in enumerate(nums):\n",
    "\n",
    "        if count >= value:\n",
    "            return i\n",
    "        \n",
    "    return len(nums)"
   ]
  }
 ],
 "metadata": {
  "kernelspec": {
   "display_name": "Python 3",
   "language": "python",
   "name": "python3"
  },
  "language_info": {
   "codemirror_mode": {
    "name": "ipython",
    "version": 3
   },
   "file_extension": ".py",
   "mimetype": "text/x-python",
   "name": "python",
   "nbconvert_exporter": "python",
   "pygments_lexer": "ipython3",
   "version": "3.9.6"
  }
 },
 "nbformat": 4,
 "nbformat_minor": 5
}
