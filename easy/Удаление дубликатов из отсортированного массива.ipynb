{
 "cells": [
  {
   "cell_type": "markdown",
   "id": "e161680d",
   "metadata": {},
   "source": [
    "26. Удаление дубликата из отсортированного списка"
   ]
  },
  {
   "cell_type": "code",
   "execution_count": 25,
   "id": "8376d327",
   "metadata": {},
   "outputs": [],
   "source": [
    "def drop_duplicated(nums):\n",
    "    nums.sort()\n",
    "    duplicated = []\n",
    "    k = 0\n",
    "\n",
    "    for i, count in enumerate(nums):\n",
    "\n",
    "        if count not in duplicated:\n",
    "            duplicated.append(count)\n",
    "            k +=1\n",
    "\n",
    "    for i in range(len(nums) - len(duplicated)):\n",
    "        duplicated.append('_')\n",
    "\n",
    "    return k, duplicated"
   ]
  }
 ],
 "metadata": {
  "kernelspec": {
   "display_name": "my_env",
   "language": "python",
   "name": "python3"
  },
  "language_info": {
   "codemirror_mode": {
    "name": "ipython",
    "version": 3
   },
   "file_extension": ".py",
   "mimetype": "text/x-python",
   "name": "python",
   "nbconvert_exporter": "python",
   "pygments_lexer": "ipython3",
   "version": "3.10.18"
  }
 },
 "nbformat": 4,
 "nbformat_minor": 5
}
