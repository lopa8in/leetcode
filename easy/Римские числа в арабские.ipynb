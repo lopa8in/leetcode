{
 "cells": [
  {
   "cell_type": "markdown",
   "id": "f9ea92e4",
   "metadata": {},
   "source": [
    "13. Римские числа в арабские"
   ]
  },
  {
   "cell_type": "code",
   "execution_count": null,
   "id": "a7f5be3e",
   "metadata": {},
   "outputs": [
    {
     "name": "stdout",
     "output_type": "stream",
     "text": [
      "9\n"
     ]
    }
   ],
   "source": [
    "def arab_count(roman):\n",
    "    symbol = {'I': 1, 'V': 5, 'X': 10, 'L': 50, 'C': 100, 'D': 500, 'M': 1000}\n",
    "    result = 0\n",
    "    prev = 0\n",
    "\n",
    "    for i in reversed(roman):\n",
    "        value = symbol[i]\n",
    "\n",
    "        if prev > value:\n",
    "            result -= value\n",
    "        else:\n",
    "            result += value\n",
    "        prev = value\n",
    "\n",
    "    return result    "
   ]
  }
 ],
 "metadata": {
  "kernelspec": {
   "display_name": "my_env",
   "language": "python",
   "name": "python3"
  },
  "language_info": {
   "codemirror_mode": {
    "name": "ipython",
    "version": 3
   },
   "file_extension": ".py",
   "mimetype": "text/x-python",
   "name": "python",
   "nbconvert_exporter": "python",
   "pygments_lexer": "ipython3",
   "version": "3.10.18"
  }
 },
 "nbformat": 4,
 "nbformat_minor": 5
}
