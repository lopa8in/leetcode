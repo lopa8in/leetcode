{
 "cells": [
  {
   "cell_type": "markdown",
   "id": "9933c30f",
   "metadata": {},
   "source": [
    "27. Удалить элемент"
   ]
  },
  {
   "cell_type": "code",
   "execution_count": 10,
   "id": "c1035620",
   "metadata": {},
   "outputs": [],
   "source": [
    "def del_element(nums, value):\n",
    "    k = len(nums)\n",
    "    i = 0\n",
    "\n",
    "    while i < len(nums):\n",
    "\n",
    "        if nums[i] == value:\n",
    "            nums.pop(i)\n",
    "            nums.append('_')\n",
    "            k -= 1\n",
    "        \n",
    "        else:\n",
    "            i +=1\n",
    "    \n",
    "    return nums,k"
   ]
  }
 ],
 "metadata": {
  "kernelspec": {
   "display_name": "my_env",
   "language": "python",
   "name": "python3"
  },
  "language_info": {
   "codemirror_mode": {
    "name": "ipython",
    "version": 3
   },
   "file_extension": ".py",
   "mimetype": "text/x-python",
   "name": "python",
   "nbconvert_exporter": "python",
   "pygments_lexer": "ipython3",
   "version": "3.10.18"
  }
 },
 "nbformat": 4,
 "nbformat_minor": 5
}
