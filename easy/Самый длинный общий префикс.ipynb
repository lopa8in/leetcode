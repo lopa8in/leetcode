{
 "cells": [
  {
   "cell_type": "markdown",
   "id": "8a3eaf5e",
   "metadata": {},
   "source": [
    "14. Самый длинный общий префикс"
   ]
  },
  {
   "cell_type": "code",
   "execution_count": 20,
   "id": "f1fe187a",
   "metadata": {},
   "outputs": [],
   "source": [
    "def pref(strs):\n",
    "    if len(strts) == 0:\n",
    "        return ''\n",
    "\n",
    "    strs.sort()\n",
    "    first = strs[0]\n",
    "    end = strs[-1]\n",
    "\n",
    "    for i, prefs in enumerate(first):\n",
    "        if  i >= len(end) or prefs != end[i]:\n",
    "            return first[:i]"
   ]
  }
 ],
 "metadata": {
  "kernelspec": {
   "display_name": "my_env",
   "language": "python",
   "name": "python3"
  },
  "language_info": {
   "codemirror_mode": {
    "name": "ipython",
    "version": 3
   },
   "file_extension": ".py",
   "mimetype": "text/x-python",
   "name": "python",
   "nbconvert_exporter": "python",
   "pygments_lexer": "ipython3",
   "version": "3.10.18"
  }
 },
 "nbformat": 4,
 "nbformat_minor": 5
}
