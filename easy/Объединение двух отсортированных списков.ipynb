{
 "cells": [
  {
   "cell_type": "markdown",
   "id": "228e8560",
   "metadata": {},
   "source": [
    "21. Объединение двух отсортированных списков"
   ]
  },
  {
   "cell_type": "code",
   "execution_count": 5,
   "id": "20aaf967",
   "metadata": {},
   "outputs": [],
   "source": [
    "def sort_list(lst1, lst2):\n",
    "    lst = lst1+lst2\n",
    "    lst.sort()\n",
    "    return lst"
   ]
  },
  {
   "cell_type": "code",
   "execution_count": 5,
   "id": "1dbb9b0a",
   "metadata": {},
   "outputs": [],
   "source": [
    "def sort_list(lst1, lst2):\n",
    "    i, j = 0, 0\n",
    "    merged = []\n",
    "\n",
    "    while i < len(lst1) and j < len(lst2):\n",
    "        if lst1[i] < lst2[j]:\n",
    "            merged.append(lst1[i])\n",
    "            i += 1\n",
    "        else:\n",
    "            merged.append(lst2[j])\n",
    "            j += 1\n",
    "\n",
    "    merged.extend(lst1[i:])\n",
    "    merged.extend(lst2[j:])\n",
    "\n",
    "    return merged"
   ]
  }
 ],
 "metadata": {
  "kernelspec": {
   "display_name": "my_env",
   "language": "python",
   "name": "python3"
  },
  "language_info": {
   "codemirror_mode": {
    "name": "ipython",
    "version": 3
   },
   "file_extension": ".py",
   "mimetype": "text/x-python",
   "name": "python",
   "nbconvert_exporter": "python",
   "pygments_lexer": "ipython3",
   "version": "3.10.18"
  }
 },
 "nbformat": 4,
 "nbformat_minor": 5
}
